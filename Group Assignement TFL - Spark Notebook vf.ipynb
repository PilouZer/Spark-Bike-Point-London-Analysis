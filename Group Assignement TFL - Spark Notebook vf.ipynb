{
 "cells": [
  {
   "cell_type": "markdown",
   "id": "17ec6cd1",
   "metadata": {},
   "source": [
    "## Goals of this project:"
   ]
  },
  {
   "cell_type": "markdown",
   "id": "5e8b4b9d",
   "metadata": {},
   "source": [
    "We're going to use our *beloved Transport for London data set*; in particular, we'll use the *Accident Statistics data already ingested*, and the \"*business questions\" we want to answer* is:\n",
    "1. \"***Which are the top 5 boroughs with the highest number of fatal accidents?***\".\n",
    "2. \"***Which age group is involved in the most accidents??***\".\n",
    "3. \"***For casualties in road accidents, what are the 3 most common modes of transportation?***\".\n",
    "\n",
    "By answering these questions, we hope to get some valuable insights regarding accidents that happened in London in 2019."
   ]
  },
  {
   "cell_type": "markdown",
   "id": "f8668a46",
   "metadata": {},
   "source": [
    "## 1. Setting up the SparkSession"
   ]
  },
  {
   "cell_type": "markdown",
   "id": "341c7af5",
   "metadata": {},
   "source": [
    "#### 1.2 Search for Spark Installation "
   ]
  },
  {
   "cell_type": "code",
   "execution_count": 3,
   "id": "df18d87f",
   "metadata": {},
   "outputs": [],
   "source": [
    "import findspark\n",
    "findspark.init()"
   ]
  },
  {
   "cell_type": "code",
   "execution_count": 4,
   "id": "a32fa30b",
   "metadata": {},
   "outputs": [],
   "source": [
    "import pandas as pd\n",
    "pd.set_option('display.max_colwidth', None)"
   ]
  },
  {
   "cell_type": "markdown",
   "id": "6e7a2ad4",
   "metadata": {},
   "source": [
    "#### 1.3 Create SparkSession"
   ]
  },
  {
   "cell_type": "code",
   "execution_count": 5,
   "id": "94035c14",
   "metadata": {
    "scrolled": true
   },
   "outputs": [
    {
     "name": "stderr",
     "output_type": "stream",
     "text": [
      "WARNING: An illegal reflective access operation has occurred\n",
      "WARNING: Illegal reflective access by org.apache.spark.unsafe.Platform (file:/opt/spark3/jars/spark-unsafe_2.12-3.2.1.jar) to constructor java.nio.DirectByteBuffer(long,int)\n",
      "WARNING: Please consider reporting this to the maintainers of org.apache.spark.unsafe.Platform\n",
      "WARNING: Use --illegal-access=warn to enable warnings of further illegal reflective access operations\n",
      "WARNING: All illegal access operations will be denied in a future release\n",
      "Setting default log level to \"WARN\".\n",
      "To adjust logging level use sc.setLogLevel(newLevel). For SparkR, use setLogLevel(newLevel).\n"
     ]
    },
    {
     "name": "stdout",
     "output_type": "stream",
     "text": [
      "This cluster relies on Spark '3.2.1'\n"
     ]
    }
   ],
   "source": [
    "from pyspark.sql.session import SparkSession\n",
    "\n",
    "spark = SparkSession.builder\\\n",
    "                    .appName(\"Transport for London - Accidents analysis - Group Assignement\")\\\n",
    "                    .getOrCreate()\n",
    "\n",
    "print(f\"This cluster relies on Spark '{spark.version}'\")"
   ]
  },
  {
   "cell_type": "markdown",
   "id": "7d93e4e2",
   "metadata": {},
   "source": [
    "## 2. Creating the dataframe from data stored in Hadoop"
   ]
  },
  {
   "cell_type": "code",
   "execution_count": 7,
   "id": "54c3f306",
   "metadata": {},
   "outputs": [
    {
     "name": "stderr",
     "output_type": "stream",
     "text": [
      "                                                                                \r"
     ]
    },
    {
     "name": "stdout",
     "output_type": "stream",
     "text": [
      "root\n",
      " |-- $type: string (nullable = true)\n",
      " |-- borough: string (nullable = true)\n",
      " |-- casualties: array (nullable = true)\n",
      " |    |-- element: struct (containsNull = true)\n",
      " |    |    |-- $type: string (nullable = true)\n",
      " |    |    |-- age: long (nullable = true)\n",
      " |    |    |-- ageBand: string (nullable = true)\n",
      " |    |    |-- class: string (nullable = true)\n",
      " |    |    |-- mode: string (nullable = true)\n",
      " |    |    |-- severity: string (nullable = true)\n",
      " |-- date: string (nullable = true)\n",
      " |-- id: long (nullable = true)\n",
      " |-- lat: double (nullable = true)\n",
      " |-- location: string (nullable = true)\n",
      " |-- lon: double (nullable = true)\n",
      " |-- severity: string (nullable = true)\n",
      " |-- vehicles: array (nullable = true)\n",
      " |    |-- element: struct (containsNull = true)\n",
      " |    |    |-- $type: string (nullable = true)\n",
      " |    |    |-- type: string (nullable = true)\n",
      " |-- filename_path: string (nullable = false)\n",
      "\n"
     ]
    }
   ],
   "source": [
    "from  pyspark.sql.functions import input_file_name\n",
    "\n",
    "# DataFrame creation\n",
    "Accidents2019InfoRawDF = spark.read.json(\"hdfs://localhost:9000/datalake/raw/tfl/accidentstats/2022/12/*/*/*\")\n",
    "\n",
    "# DataFrame updated with an additional column containing the filename contributing to the data in every row.\n",
    "Accidents2019InfoRawDF = Accidents2019InfoRawDF.withColumn(\"filename_path\", input_file_name())\n",
    "\n",
    "#Showing the inferred schema\n",
    "Accidents2019InfoRawDF.printSchema()"
   ]
  },
  {
   "cell_type": "code",
   "execution_count": 8,
   "id": "7ac8cc8b",
   "metadata": {
    "scrolled": true
   },
   "outputs": [
    {
     "name": "stderr",
     "output_type": "stream",
     "text": [
      "                                                                                \r"
     ]
    },
    {
     "name": "stdout",
     "output_type": "stream",
     "text": [
      "+----------+----------+----------+----------+------+---------+----------+---------+--------+----------+-------------+\n",
      "|     $type|   borough|casualties|      date|    id|      lat|  location|      lon|severity|  vehicles|filename_path|\n",
      "+----------+----------+----------+----------+------+---------+----------+---------+--------+----------+-------------+\n",
      "|Tfl.Api...|   Croydon|[{Tfl.A...|2019-04...|353158|51.329752|On Limp...|-0.074149|  Slight|[{Tfl.A...|   hdfs://...|\n",
      "|Tfl.Api...|    Newham|[{Tfl.A...|2019-04...|353160|51.531924|On Bark...|    0.048| Serious|[{Tfl.A...|   hdfs://...|\n",
      "|Tfl.Api...|Barking...|[{Tfl.A...|2019-04...|353162|51.523658|On Tham...| 0.153556|  Slight|[{Tfl.A...|   hdfs://...|\n",
      "|Tfl.Api...|Hammers...|[{Tfl.A...|2019-04...|353164|51.475006|On Harb...|-0.182532| Serious|[{Tfl.A...|   hdfs://...|\n",
      "|Tfl.Api...| Islington|[{Tfl.A...|2019-04...|353166|51.529224|On City...|-0.095414|  Slight|[{Tfl.A...|   hdfs://...|\n",
      "|Tfl.Api...|   Lambeth|[{Tfl.A...|2019-04...|353168|51.422562|On Crow...|-0.099262|  Slight|[{Tfl.A...|   hdfs://...|\n",
      "|Tfl.Api...|City of...|[{Tfl.A...|2019-04...|353170| 51.50016|On Sain...|-0.126104| Serious|[{Tfl.A...|   hdfs://...|\n",
      "|Tfl.Api...|Wandsworth|[{Tfl.A...|2019-04...|353172|51.430083|On Toot...|-0.166031|  Slight|[{Tfl.A...|   hdfs://...|\n",
      "|Tfl.Api...|   Lambeth|[{Tfl.A...|2019-04...|353174|51.425207|On Stre...|-0.130625|  Slight|[{Tfl.A...|   hdfs://...|\n",
      "|Tfl.Api...|  Lewisham|[{Tfl.A...|2019-04...|353176|51.470485|On Lewi...|-0.029093|  Slight|[{Tfl.A...|   hdfs://...|\n",
      "+----------+----------+----------+----------+------+---------+----------+---------+--------+----------+-------------+\n",
      "only showing top 10 rows\n",
      "\n"
     ]
    }
   ],
   "source": [
    "#Checking the first 10 rows of the dataset and import pyspark functions\n",
    "from  pyspark.sql.functions import col, explode, min, max, avg\n",
    "Accidents2019InfoRawDF.show(10, 10, False)"
   ]
  },
  {
   "cell_type": "markdown",
   "id": "1c5b231f",
   "metadata": {},
   "source": [
    "## 3. Getting Insights from the Data"
   ]
  },
  {
   "cell_type": "markdown",
   "id": "b02fedea",
   "metadata": {},
   "source": [
    "### 3.1 Q1: Which are the top 5 boroughs with the highest number of fatal accidents?"
   ]
  },
  {
   "cell_type": "code",
   "execution_count": 9,
   "id": "0874f7e7",
   "metadata": {},
   "outputs": [
    {
     "name": "stderr",
     "output_type": "stream",
     "text": [
      "                                                                                \r"
     ]
    },
    {
     "data": {
      "text/html": [
       "<div>\n",
       "<style scoped>\n",
       "    .dataframe tbody tr th:only-of-type {\n",
       "        vertical-align: middle;\n",
       "    }\n",
       "\n",
       "    .dataframe tbody tr th {\n",
       "        vertical-align: top;\n",
       "    }\n",
       "\n",
       "    .dataframe thead th {\n",
       "        text-align: right;\n",
       "    }\n",
       "</style>\n",
       "<table border=\"1\" class=\"dataframe\">\n",
       "  <thead>\n",
       "    <tr style=\"text-align: right;\">\n",
       "      <th></th>\n",
       "      <th>borough</th>\n",
       "      <th>severity</th>\n",
       "      <th>count</th>\n",
       "    </tr>\n",
       "  </thead>\n",
       "  <tbody>\n",
       "    <tr>\n",
       "      <th>0</th>\n",
       "      <td>Merton</td>\n",
       "      <td>Fatal</td>\n",
       "      <td>48</td>\n",
       "    </tr>\n",
       "    <tr>\n",
       "      <th>1</th>\n",
       "      <td>Croydon</td>\n",
       "      <td>Fatal</td>\n",
       "      <td>42</td>\n",
       "    </tr>\n",
       "    <tr>\n",
       "      <th>2</th>\n",
       "      <td>Wandsworth</td>\n",
       "      <td>Fatal</td>\n",
       "      <td>42</td>\n",
       "    </tr>\n",
       "    <tr>\n",
       "      <th>3</th>\n",
       "      <td>Bromley</td>\n",
       "      <td>Fatal</td>\n",
       "      <td>36</td>\n",
       "    </tr>\n",
       "    <tr>\n",
       "      <th>4</th>\n",
       "      <td>Brent</td>\n",
       "      <td>Fatal</td>\n",
       "      <td>36</td>\n",
       "    </tr>\n",
       "  </tbody>\n",
       "</table>\n",
       "</div>"
      ],
      "text/plain": [
       "      borough severity  count\n",
       "0      Merton    Fatal     48\n",
       "1     Croydon    Fatal     42\n",
       "2  Wandsworth    Fatal     42\n",
       "3     Bromley    Fatal     36\n",
       "4       Brent    Fatal     36"
      ]
     },
     "execution_count": 9,
     "metadata": {},
     "output_type": "execute_result"
    }
   ],
   "source": [
    "# top 5 boroughs with fatal severity rate\n",
    "Accidents2019InfoRawDF.where(col(\"severity\") == \"Fatal\")\\\n",
    "                      .select(\"borough\", \"severity\")\\\n",
    "                      .groupBy(\"borough\", \"severity\")\\\n",
    "                      .count()\\\n",
    "                      .orderBy(col(\"count\").desc())\\\n",
    "                      .limit(5)\\\n",
    "                      .toPandas()"
   ]
  },
  {
   "cell_type": "markdown",
   "id": "24ee0096",
   "metadata": {},
   "source": [
    "### 3.2 Q2: Which age group is involved in the most accidents?"
   ]
  },
  {
   "cell_type": "markdown",
   "id": "de617549",
   "metadata": {},
   "source": [
    "#### 3.2.1 Flattening the age_info array"
   ]
  },
  {
   "cell_type": "code",
   "execution_count": 10,
   "id": "db6a5ad9",
   "metadata": {
    "scrolled": true
   },
   "outputs": [
    {
     "name": "stdout",
     "output_type": "stream",
     "text": [
      "+------+--------------------+--------------------+--------+--------+\n",
      "|    id|                date|             borough|severity|age_info|\n",
      "+------+--------------------+--------------------+--------+--------+\n",
      "|353158|2019-04-28T18:30:00Z|             Croydon|  Slight|      59|\n",
      "|353160|2019-04-28T22:55:00Z|              Newham| Serious|      26|\n",
      "|353160|2019-04-28T22:55:00Z|              Newham| Serious|      53|\n",
      "|353162|2019-04-29T06:42:00Z|Barking and Dagenham|  Slight|      23|\n",
      "|353164|2019-04-29T09:24:00Z|Hammersmith and F...| Serious|      43|\n",
      "+------+--------------------+--------------------+--------+--------+\n",
      "only showing top 5 rows\n",
      "\n"
     ]
    }
   ],
   "source": [
    "#Flattening the array in casualties -> each age is on one row\n",
    "Accidents2019Casualties = Accidents2019InfoRawDF.withColumn(\"age_info\", explode(\"casualties.age\"))\\\n",
    "                                            .select(\"id\", \"date\", \"borough\", \"severity\", \"age_info\",)\n",
    "Accidents2019Casualties.show(5) #show first 5 to check if correct"
   ]
  },
  {
   "cell_type": "markdown",
   "id": "63efa4b3",
   "metadata": {},
   "source": [
    "#### 3.2.2 Creating a new column age category"
   ]
  },
  {
   "cell_type": "code",
   "execution_count": 11,
   "id": "faca5ab8",
   "metadata": {},
   "outputs": [
    {
     "name": "stdout",
     "output_type": "stream",
     "text": [
      "+------+--------------------+--------------------+--------+--------+---------------+\n",
      "|    id|                date|             borough|severity|age_info|   age_category|\n",
      "+------+--------------------+--------------------+--------+--------+---------------+\n",
      "|353158|2019-04-28T18:30:00Z|             Croydon|  Slight|      59|Mid-Aged Person|\n",
      "|353160|2019-04-28T22:55:00Z|              Newham| Serious|      26|   Young Person|\n",
      "|353160|2019-04-28T22:55:00Z|              Newham| Serious|      53|Mid-Aged Person|\n",
      "|353162|2019-04-29T06:42:00Z|Barking and Dagenham|  Slight|      23|   Young Person|\n",
      "|353164|2019-04-29T09:24:00Z|Hammersmith and F...| Serious|      43|Mid-Aged Person|\n",
      "+------+--------------------+--------------------+--------+--------+---------------+\n",
      "only showing top 5 rows\n",
      "\n"
     ]
    }
   ],
   "source": [
    "from pyspark.sql.functions import when\n",
    "\n",
    "#Creating a new column \"age category\" with conditions\n",
    "Accidents2019CasualtiesbyAge = Accidents2019Casualties\\\n",
    ".withColumn(\"age_category\", when((col(\"age_info\")<30), \"Young Person\") # People under 30 years old\\\n",
    "                           .when((col(\"age_info\")>30) & (col(\"age_info\")<60), \"Mid-Aged Person\") # people between 30-60 years\\\n",
    "                           .when((col(\"age_info\")>60), \"Old Person\")) # people above 60 years old\n",
    "Accidents2019CasualtiesbyAge.show(5) # Showing the first 5 results to see if correctly inputed"
   ]
  },
  {
   "cell_type": "markdown",
   "id": "c4fdc8a6",
   "metadata": {},
   "source": [
    "#### 3.2.3 Answering the business question"
   ]
  },
  {
   "cell_type": "code",
   "execution_count": 12,
   "id": "ee93ae88",
   "metadata": {
    "scrolled": true
   },
   "outputs": [
    {
     "name": "stderr",
     "output_type": "stream",
     "text": [
      "                                                                                \r"
     ]
    },
    {
     "data": {
      "text/html": [
       "<div>\n",
       "<style scoped>\n",
       "    .dataframe tbody tr th:only-of-type {\n",
       "        vertical-align: middle;\n",
       "    }\n",
       "\n",
       "    .dataframe tbody tr th {\n",
       "        vertical-align: top;\n",
       "    }\n",
       "\n",
       "    .dataframe thead th {\n",
       "        text-align: right;\n",
       "    }\n",
       "</style>\n",
       "<table border=\"1\" class=\"dataframe\">\n",
       "  <thead>\n",
       "    <tr style=\"text-align: right;\">\n",
       "      <th></th>\n",
       "      <th>age_category</th>\n",
       "      <th>count</th>\n",
       "    </tr>\n",
       "  </thead>\n",
       "  <tbody>\n",
       "    <tr>\n",
       "      <th>0</th>\n",
       "      <td>Mid-Aged Person</td>\n",
       "      <td>86094</td>\n",
       "    </tr>\n",
       "    <tr>\n",
       "      <th>1</th>\n",
       "      <td>Young Person</td>\n",
       "      <td>65508</td>\n",
       "    </tr>\n",
       "    <tr>\n",
       "      <th>2</th>\n",
       "      <td>Old Person</td>\n",
       "      <td>13620</td>\n",
       "    </tr>\n",
       "  </tbody>\n",
       "</table>\n",
       "</div>"
      ],
      "text/plain": [
       "      age_category  count\n",
       "0  Mid-Aged Person  86094\n",
       "1     Young Person  65508\n",
       "2       Old Person  13620"
      ]
     },
     "execution_count": 12,
     "metadata": {},
     "output_type": "execute_result"
    }
   ],
   "source": [
    "# Counting for the number of casualties by age category\n",
    "Accidents2019CasualtiesbyAge.where(col(\"age_category\")!=\"None\")\\\n",
    "                            .select(\"age_category\")\\\n",
    "                            .groupBy(\"age_category\")\\\n",
    "                            .count()\\\n",
    "                            .toPandas()"
   ]
  },
  {
   "cell_type": "markdown",
   "id": "a6c45603",
   "metadata": {},
   "source": [
    "### 3.3 Q3: For casualties in road accidents, what are the 3 most common modes of transportation?"
   ]
  },
  {
   "cell_type": "code",
   "execution_count": 13,
   "id": "e107b065",
   "metadata": {},
   "outputs": [
    {
     "name": "stderr",
     "output_type": "stream",
     "text": [
      "                                                                                \r"
     ]
    },
    {
     "data": {
      "text/html": [
       "<div>\n",
       "<style scoped>\n",
       "    .dataframe tbody tr th:only-of-type {\n",
       "        vertical-align: middle;\n",
       "    }\n",
       "\n",
       "    .dataframe tbody tr th {\n",
       "        vertical-align: top;\n",
       "    }\n",
       "\n",
       "    .dataframe thead th {\n",
       "        text-align: right;\n",
       "    }\n",
       "</style>\n",
       "<table border=\"1\" class=\"dataframe\">\n",
       "  <thead>\n",
       "    <tr style=\"text-align: right;\">\n",
       "      <th></th>\n",
       "      <th>mode_info</th>\n",
       "      <th>count</th>\n",
       "    </tr>\n",
       "  </thead>\n",
       "  <tbody>\n",
       "    <tr>\n",
       "      <th>0</th>\n",
       "      <td>Car</td>\n",
       "      <td>68742</td>\n",
       "    </tr>\n",
       "    <tr>\n",
       "      <th>1</th>\n",
       "      <td>Pedestrian</td>\n",
       "      <td>33972</td>\n",
       "    </tr>\n",
       "    <tr>\n",
       "      <th>2</th>\n",
       "      <td>PoweredTwoWheeler</td>\n",
       "      <td>32346</td>\n",
       "    </tr>\n",
       "  </tbody>\n",
       "</table>\n",
       "</div>"
      ],
      "text/plain": [
       "           mode_info  count\n",
       "0                Car  68742\n",
       "1         Pedestrian  33972\n",
       "2  PoweredTwoWheeler  32346"
      ]
     },
     "execution_count": 13,
     "metadata": {},
     "output_type": "execute_result"
    }
   ],
   "source": [
    "# Getting the most common mode of transportation for all casualties\n",
    "accidentInfoRawDF = Accidents2019InfoRawDF.withColumn(\"mode_info\", explode(\"casualties.mode\"))\\\n",
    "    .select(\"mode_info\")\\\n",
    "    .groupBy(\"mode_info\")\\\n",
    "    .count()\\\n",
    "    .orderBy(col(\"count\").desc())\\\n",
    "    .limit(3)\\\n",
    "    .toPandas()\n",
    "accidentInfoRawDF"
   ]
  }
 ],
 "metadata": {
  "kernelspec": {
   "display_name": "Python 3 (ipykernel)",
   "language": "python",
   "name": "python3"
  },
  "language_info": {
   "codemirror_mode": {
    "name": "ipython",
    "version": 3
   },
   "file_extension": ".py",
   "mimetype": "text/x-python",
   "name": "python",
   "nbconvert_exporter": "python",
   "pygments_lexer": "ipython3",
   "version": "3.9.2"
  }
 },
 "nbformat": 4,
 "nbformat_minor": 5
}
